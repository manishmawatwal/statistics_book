{
 "cells": [
  {
   "cell_type": "code",
   "execution_count": 1,
   "metadata": {},
   "outputs": [],
   "source": [
    "import numpy as np"
   ]
  },
  {
   "cell_type": "code",
   "execution_count": 2,
   "metadata": {},
   "outputs": [],
   "source": [
    "# Example data\n",
    "data = [12, 15, 17, 18, 20, 21, 22, 24, 27, 30, 32, 35, 36, 37, 40]"
   ]
  },
  {
   "cell_type": "code",
   "execution_count": 3,
   "metadata": {},
   "outputs": [],
   "source": [
    "# calculating quartiles\n",
    "q1 = np.percentile(data, 25)\n",
    "q2 = np.percentile(data, 50)\n",
    "q3 = np.percentile(data, 75)"
   ]
  },
  {
   "cell_type": "code",
   "execution_count": 4,
   "metadata": {},
   "outputs": [],
   "source": [
    "# calculating minimum and maximum values\n",
    "minimum = np.min(data)\n",
    "maximum = np.max(data)"
   ]
  },
  {
   "cell_type": "code",
   "execution_count": 6,
   "metadata": {},
   "outputs": [
    {
     "name": "stdout",
     "output_type": "stream",
     "text": [
      "5-point summary\n",
      "Quartile 1 (Q1): 19.0\n",
      "Quartile 2 (Q2, Median): 24.0\n",
      "Quartile 3 (Q3): 33.5\n",
      "Minimum: 12\n",
      "Maximum: 40\n"
     ]
    }
   ],
   "source": [
    "# printing the results\n",
    "print(\"5-point summary\")\n",
    "print(\"Quartile 1 (Q1):\", q1)\n",
    "print(\"Quartile 2 (Q2, Median):\", q2)\n",
    "print(\"Quartile 3 (Q3):\", q3)\n",
    "print(\"Minimum:\", minimum)\n",
    "print(\"Maximum:\", maximum)"
   ]
  }
 ],
 "metadata": {
  "kernelspec": {
   "display_name": "base",
   "language": "python",
   "name": "python3"
  },
  "language_info": {
   "codemirror_mode": {
    "name": "ipython",
    "version": 3
   },
   "file_extension": ".py",
   "mimetype": "text/x-python",
   "name": "python",
   "nbconvert_exporter": "python",
   "pygments_lexer": "ipython3",
   "version": "3.9.13"
  },
  "orig_nbformat": 4
 },
 "nbformat": 4,
 "nbformat_minor": 2
}
